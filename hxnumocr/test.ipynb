{
 "cells": [
  {
   "cell_type": "code",
   "execution_count": 2,
   "metadata": {},
   "outputs": [],
   "source": [
    "import numpy as np\n"
   ]
  },
  {
   "cell_type": "code",
   "execution_count": 3,
   "metadata": {},
   "outputs": [],
   "source": [
    "array = np.array([1,2,3])"
   ]
  },
  {
   "cell_type": "code",
   "execution_count": 4,
   "metadata": {},
   "outputs": [
    {
     "data": {
      "text/plain": [
       "3"
      ]
     },
     "execution_count": 4,
     "metadata": {},
     "output_type": "execute_result"
    }
   ],
   "source": [
    "len(array)"
   ]
  },
  {
   "cell_type": "code",
   "execution_count": 6,
   "metadata": {},
   "outputs": [
    {
     "data": {
      "text/plain": [
       "(3,)"
      ]
     },
     "execution_count": 6,
     "metadata": {},
     "output_type": "execute_result"
    }
   ],
   "source": [
    "array.shape\n"
   ]
  },
  {
   "cell_type": "code",
   "execution_count": 5,
   "metadata": {},
   "outputs": [],
   "source": [
    "a = np.zeros(10, dtype=np.uint8)\n",
    "a[2] = 3\n"
   ]
  },
  {
   "cell_type": "code",
   "execution_count": 6,
   "metadata": {},
   "outputs": [
    {
     "data": {
      "text/plain": [
       "array([0, 0, 3, 0, 0, 0, 0, 0, 0, 0], dtype=uint8)"
      ]
     },
     "execution_count": 6,
     "metadata": {},
     "output_type": "execute_result"
    }
   ],
   "source": [
    "a"
   ]
  },
  {
   "cell_type": "code",
   "execution_count": 7,
   "metadata": {},
   "outputs": [
    {
     "data": {
      "text/plain": [
       "[0, 1, 2, 3, 4, 5, 6, 7, 8, 9]"
      ]
     },
     "execution_count": 7,
     "metadata": {},
     "output_type": "execute_result"
    }
   ],
   "source": [
    "list(range(10))"
   ]
  },
  {
   "cell_type": "code",
   "execution_count": 8,
   "metadata": {},
   "outputs": [],
   "source": [
    "b = np.array([[[1, 2], [3, 4]],\n",
    "              [[5, 6], [7, 8]]])"
   ]
  },
  {
   "cell_type": "code",
   "execution_count": 9,
   "metadata": {},
   "outputs": [
    {
     "data": {
      "text/plain": [
       "array([[ 6,  8],\n",
       "       [10, 12]])"
      ]
     },
     "execution_count": 9,
     "metadata": {},
     "output_type": "execute_result"
    }
   ],
   "source": [
    "b.sum(axis=0)"
   ]
  },
  {
   "cell_type": "code",
   "execution_count": 12,
   "metadata": {},
   "outputs": [
    {
     "data": {
      "text/plain": [
       "['0.1.jpg',\n",
       " '0.10.jpg',\n",
       " '0.11.jpg',\n",
       " '0.12.jpg',\n",
       " '0.13.jpg',\n",
       " '0.14.jpg',\n",
       " '0.15.jpg',\n",
       " '0.16.jpg',\n",
       " '0.2.jpg',\n",
       " '0.3.jpg',\n",
       " '0.4.jpg',\n",
       " '0.5.jpg',\n",
       " '0.6.jpg',\n",
       " '0.7.jpg',\n",
       " '0.8.jpg',\n",
       " '0.9.jpg',\n",
       " '1.1.jpg',\n",
       " '1.10.jpg',\n",
       " '1.11.jpg',\n",
       " '1.12.jpg',\n",
       " '1.13.jpg',\n",
       " '1.14.jpg',\n",
       " '1.15.jpg',\n",
       " '1.16.jpg',\n",
       " '1.2.jpg',\n",
       " '1.3.jpg',\n",
       " '1.4.jpg',\n",
       " '1.5.jpg',\n",
       " '1.6.jpg',\n",
       " '1.7.jpg',\n",
       " '1.8.jpg',\n",
       " '1.9.jpg',\n",
       " '2.1.jpg',\n",
       " '2.10.jpg',\n",
       " '2.11.jpg',\n",
       " '2.12.jpg',\n",
       " '2.13.jpg',\n",
       " '2.14.jpg',\n",
       " '2.15.jpg',\n",
       " '2.16.jpg',\n",
       " '2.2.jpg',\n",
       " '2.3.jpg',\n",
       " '2.4.jpg',\n",
       " '2.5.jpg',\n",
       " '2.6.jpg',\n",
       " '2.7.jpg',\n",
       " '2.8.jpg',\n",
       " '2.9.jpg',\n",
       " '3.1.jpg',\n",
       " '3.10.jpg',\n",
       " '3.11.jpg',\n",
       " '3.12.jpg',\n",
       " '3.13.jpg',\n",
       " '3.14.jpg',\n",
       " '3.15.jpg',\n",
       " '3.16.jpg',\n",
       " '3.2.jpg',\n",
       " '3.3.jpg',\n",
       " '3.4.jpg',\n",
       " '3.5.jpg',\n",
       " '3.6.jpg',\n",
       " '3.7.jpg',\n",
       " '3.8.jpg',\n",
       " '3.9.jpg',\n",
       " '4.1.jpg',\n",
       " '4.10.jpg',\n",
       " '4.11.jpg',\n",
       " '4.12.jpg',\n",
       " '4.13.jpg',\n",
       " '4.14.jpg',\n",
       " '4.15.jpg',\n",
       " '4.16.jpg',\n",
       " '4.2.jpg',\n",
       " '4.3.jpg',\n",
       " '4.4.jpg',\n",
       " '4.5.jpg',\n",
       " '4.6.jpg',\n",
       " '4.7.jpg',\n",
       " '4.8.jpg',\n",
       " '4.9.jpg',\n",
       " '5.1.jpg',\n",
       " '5.10.jpg',\n",
       " '5.11.jpg',\n",
       " '5.12.jpg',\n",
       " '5.13.jpg',\n",
       " '5.14.jpg',\n",
       " '5.15.jpg',\n",
       " '5.16.jpg',\n",
       " '5.2.jpg',\n",
       " '5.3.jpg',\n",
       " '5.4.jpg',\n",
       " '5.5.jpg',\n",
       " '5.6.jpg',\n",
       " '5.7.jpg',\n",
       " '5.8.jpg',\n",
       " '5.9.jpg',\n",
       " '6.1.jpg',\n",
       " '6.10.jpg',\n",
       " '6.11.jpg',\n",
       " '6.12.jpg',\n",
       " '6.13.jpg',\n",
       " '6.14.jpg',\n",
       " '6.15.jpg',\n",
       " '6.16.jpg',\n",
       " '6.2.jpg',\n",
       " '6.3.jpg',\n",
       " '6.4.jpg',\n",
       " '6.5.jpg',\n",
       " '6.6.jpg',\n",
       " '6.7.jpg',\n",
       " '6.8.jpg',\n",
       " '6.9.jpg',\n",
       " '7.1.jpg',\n",
       " '7.10.jpg',\n",
       " '7.11.jpg',\n",
       " '7.12.jpg',\n",
       " '7.13.jpg',\n",
       " '7.14.jpg',\n",
       " '7.15.jpg',\n",
       " '7.16.jpg',\n",
       " '7.2.jpg',\n",
       " '7.3.jpg',\n",
       " '7.4.jpg',\n",
       " '7.5.jpg',\n",
       " '7.6.jpg',\n",
       " '7.7.jpg',\n",
       " '7.8.jpg',\n",
       " '7.9.jpg',\n",
       " '8.1.jpg',\n",
       " '8.10.jpg',\n",
       " '8.11.jpg',\n",
       " '8.12.jpg',\n",
       " '8.13.jpg',\n",
       " '8.14.jpg',\n",
       " '8.15.jpg',\n",
       " '8.16.jpg',\n",
       " '8.2.jpg',\n",
       " '8.3.jpg',\n",
       " '8.4.jpg',\n",
       " '8.5.jpg',\n",
       " '8.6.jpg',\n",
       " '8.7.jpg',\n",
       " '8.8.jpg',\n",
       " '8.9.jpg',\n",
       " '9.1.jpg',\n",
       " '9.10.jpg',\n",
       " '9.11.jpg',\n",
       " '9.12.jpg',\n",
       " '9.13.jpg',\n",
       " '9.14.jpg',\n",
       " '9.15.jpg',\n",
       " '9.16.jpg',\n",
       " '9.2.jpg',\n",
       " '9.3.jpg',\n",
       " '9.4.jpg',\n",
       " '9.5.jpg',\n",
       " '9.6.jpg',\n",
       " '9.7.jpg',\n",
       " '9.8.jpg',\n",
       " '9.9.jpg',\n",
       " 'full.psd']"
      ]
     },
     "execution_count": 12,
     "metadata": {},
     "output_type": "execute_result"
    }
   ],
   "source": [
    "import os\n",
    "os.listdir(r\"C:\\Users\\hongxiao95\\Documents\\Code\\2023\\number_ocr\\source_data\\train\")"
   ]
  },
  {
   "cell_type": "code",
   "execution_count": 25,
   "metadata": {},
   "outputs": [
    {
     "ename": "TypeError",
     "evalue": "Tag.__init__() missing 1 required positional argument: 'onehot'",
     "output_type": "error",
     "traceback": [
      "\u001b[1;31m---------------------------------------------------------------------------\u001b[0m",
      "\u001b[1;31mTypeError\u001b[0m                                 Traceback (most recent call last)",
      "\u001b[1;32mc:\\Users\\hongxiao95\\Documents\\Code\\2023\\number_ocr\\src\\test.ipynb 单元格 11\u001b[0m line \u001b[0;36m4\n\u001b[0;32m      <a href='vscode-notebook-cell:/c%3A/Users/hongxiao95/Documents/Code/2023/number_ocr/src/test.ipynb#X13sZmlsZQ%3D%3D?line=0'>1</a>\u001b[0m \u001b[39mfrom\u001b[39;00m \u001b[39menum\u001b[39;00m \u001b[39mimport\u001b[39;00m Enum\n\u001b[0;32m      <a href='vscode-notebook-cell:/c%3A/Users/hongxiao95/Documents/Code/2023/number_ocr/src/test.ipynb#X13sZmlsZQ%3D%3D?line=1'>2</a>\u001b[0m \u001b[39mimport\u001b[39;00m \u001b[39mnumpy\u001b[39;00m \u001b[39mas\u001b[39;00m \u001b[39mnp\u001b[39;00m\n\u001b[1;32m----> <a href='vscode-notebook-cell:/c%3A/Users/hongxiao95/Documents/Code/2023/number_ocr/src/test.ipynb#X13sZmlsZQ%3D%3D?line=3'>4</a>\u001b[0m \u001b[39mclass\u001b[39;00m \u001b[39mTag\u001b[39;00m(Enum):\n\u001b[0;32m      <a href='vscode-notebook-cell:/c%3A/Users/hongxiao95/Documents/Code/2023/number_ocr/src/test.ipynb#X13sZmlsZQ%3D%3D?line=4'>5</a>\u001b[0m     \u001b[39m'''\u001b[39;00m\n\u001b[0;32m      <a href='vscode-notebook-cell:/c%3A/Users/hongxiao95/Documents/Code/2023/number_ocr/src/test.ipynb#X13sZmlsZQ%3D%3D?line=5'>6</a>\u001b[0m \u001b[39m    描述一个样本的类别，包括类别名称和onehot编码\u001b[39;00m\n\u001b[0;32m      <a href='vscode-notebook-cell:/c%3A/Users/hongxiao95/Documents/Code/2023/number_ocr/src/test.ipynb#X13sZmlsZQ%3D%3D?line=6'>7</a>\u001b[0m \u001b[39m    '''\u001b[39;00m\n\u001b[0;32m      <a href='vscode-notebook-cell:/c%3A/Users/hongxiao95/Documents/Code/2023/number_ocr/src/test.ipynb#X13sZmlsZQ%3D%3D?line=7'>8</a>\u001b[0m     \u001b[39m@staticmethod\u001b[39m\n\u001b[0;32m      <a href='vscode-notebook-cell:/c%3A/Users/hongxiao95/Documents/Code/2023/number_ocr/src/test.ipynb#X13sZmlsZQ%3D%3D?line=8'>9</a>\u001b[0m     \u001b[39mdef\u001b[39;00m \u001b[39m_get_one_hot\u001b[39m(number):\n",
      "File \u001b[1;32mc:\\Users\\hongxiao95\\anaconda3\\envs\\nn1\\lib\\enum.py:298\u001b[0m, in \u001b[0;36mEnumMeta.__new__\u001b[1;34m(metacls, cls, bases, classdict, **kwds)\u001b[0m\n\u001b[0;32m    296\u001b[0m enum_member\u001b[39m.\u001b[39m_name_ \u001b[39m=\u001b[39m member_name\n\u001b[0;32m    297\u001b[0m enum_member\u001b[39m.\u001b[39m\u001b[39m__objclass__\u001b[39m \u001b[39m=\u001b[39m enum_class\n\u001b[1;32m--> 298\u001b[0m enum_member\u001b[39m.\u001b[39;49m\u001b[39m__init__\u001b[39;49m(\u001b[39m*\u001b[39;49margs)\n\u001b[0;32m    299\u001b[0m \u001b[39m# If another member with the same value was already defined, the\u001b[39;00m\n\u001b[0;32m    300\u001b[0m \u001b[39m# new member becomes an alias to the existing one.\u001b[39;00m\n\u001b[0;32m    301\u001b[0m \u001b[39mfor\u001b[39;00m name, canonical_member \u001b[39min\u001b[39;00m enum_class\u001b[39m.\u001b[39m_member_map_\u001b[39m.\u001b[39mitems():\n",
      "\u001b[1;31mTypeError\u001b[0m: Tag.__init__() missing 1 required positional argument: 'onehot'"
     ]
    }
   ],
   "source": [
    "from enum import Enum\n",
    "import numpy as np\n",
    "\n",
    "class Tag(Enum):\n",
    "    '''\n",
    "    描述一个样本的类别，包括类别名称和onehot编码\n",
    "    '''\n",
    "    @staticmethod\n",
    "    def _get_one_hot(number):\n",
    "        if number not in list(range(10)):\n",
    "            return np.zeros(10, dtype=np.uint8)\n",
    "        res = np.zeros(10, dtype=np.uint8)\n",
    "        res[number] = 1\n",
    "        return res\n",
    "\n",
    "    ZERO = (0, _get_one_hot(0))\n",
    "    ONE = (1, _get_one_hot(1))\n",
    "    TWO = (2, _get_one_hot(2))\n",
    "    THREE = (3, _get_one_hot(3))\n",
    "    FOUR = (4, _get_one_hot(4))\n",
    "    FIVE = (5, _get_one_hot(5))\n",
    "    SIX = (6, _get_one_hot(6))\n",
    "    SEVEN = (7, _get_one_hot(7))\n",
    "    EIGHT = (8, _get_one_hot(8))\n",
    "    NINE = (9, _get_one_hot(9))\n",
    "\n",
    "    def __init__(self, num_value:int, onehot:np.ndarray):\n",
    "        self.num_value = num_value\n",
    "        self.onehot = onehot"
   ]
  },
  {
   "cell_type": "code",
   "execution_count": null,
   "metadata": {},
   "outputs": [],
   "source": []
  },
  {
   "cell_type": "code",
   "execution_count": 21,
   "metadata": {},
   "outputs": [
    {
     "data": {
      "text/plain": [
       "(8, array([0, 0, 0, 0, 0, 0, 0, 0, 1, 0], dtype=uint8))"
      ]
     },
     "execution_count": 21,
     "metadata": {},
     "output_type": "execute_result"
    }
   ],
   "source": [
    "a = Tag.EIGHT\n",
    "a.value"
   ]
  },
  {
   "cell_type": "code",
   "execution_count": 22,
   "metadata": {},
   "outputs": [
    {
     "ename": "ValueError",
     "evalue": "Value 7 not in Tag!",
     "output_type": "error",
     "traceback": [
      "\u001b[1;31m---------------------------------------------------------------------------\u001b[0m",
      "\u001b[1;31mValueError\u001b[0m                                Traceback (most recent call last)",
      "\u001b[1;32mc:\\Users\\hongxiao95\\Documents\\Code\\2023\\number_ocr\\src\\test.ipynb 单元格 13\u001b[0m line \u001b[0;36m1\n\u001b[1;32m----> <a href='vscode-notebook-cell:/c%3A/Users/hongxiao95/Documents/Code/2023/number_ocr/src/test.ipynb#X15sZmlsZQ%3D%3D?line=0'>1</a>\u001b[0m Tag\u001b[39m.\u001b[39;49mget_by_value(\u001b[39m7\u001b[39;49m)\n",
      "\u001b[1;32mc:\\Users\\hongxiao95\\Documents\\Code\\2023\\number_ocr\\src\\test.ipynb 单元格 13\u001b[0m line \u001b[0;36m3\n\u001b[0;32m     <a href='vscode-notebook-cell:/c%3A/Users/hongxiao95/Documents/Code/2023/number_ocr/src/test.ipynb#X15sZmlsZQ%3D%3D?line=33'>34</a>\u001b[0m     \u001b[39mreturn\u001b[39;00m \u001b[39mcls\u001b[39m\u001b[39m.\u001b[39m_value2member_map_[value]\n\u001b[0;32m     <a href='vscode-notebook-cell:/c%3A/Users/hongxiao95/Documents/Code/2023/number_ocr/src/test.ipynb#X15sZmlsZQ%3D%3D?line=34'>35</a>\u001b[0m \u001b[39melse\u001b[39;00m:\n\u001b[1;32m---> <a href='vscode-notebook-cell:/c%3A/Users/hongxiao95/Documents/Code/2023/number_ocr/src/test.ipynb#X15sZmlsZQ%3D%3D?line=35'>36</a>\u001b[0m     \u001b[39mraise\u001b[39;00m \u001b[39mValueError\u001b[39;00m(\u001b[39mf\u001b[39m\u001b[39m\"\u001b[39m\u001b[39mValue \u001b[39m\u001b[39m{\u001b[39;00mvalue\u001b[39m}\u001b[39;00m\u001b[39m not in Tag!\u001b[39m\u001b[39m\"\u001b[39m)\n",
      "\u001b[1;31mValueError\u001b[0m: Value 7 not in Tag!"
     ]
    }
   ],
   "source": [
    "Tag.get_by_value(7)"
   ]
  },
  {
   "cell_type": "code",
   "execution_count": 26,
   "metadata": {},
   "outputs": [],
   "source": [
    "class Tag(Enum):\n",
    "    '''\n",
    "    描述一个样本的类别，包括类别名称和onehot编码\n",
    "    '''\n",
    "    @staticmethod\n",
    "    def _get_one_hot(number):\n",
    "        if number not in list(range(10)):\n",
    "            return np.zeros(10, dtype=np.uint8)\n",
    "        res = np.zeros(10, dtype=np.uint8)\n",
    "        res[number] = 1\n",
    "        return res\n",
    "    \n",
    "    def __init__(self, num_value:int, onehot:np.ndarray):\n",
    "        self.num_value = num_value\n",
    "        self.onehot = onehot\n",
    "\n",
    "    ZERO = (0, _get_one_hot(0))\n",
    "    ONE = (1, _get_one_hot(1))\n",
    "    TWO = (2, _get_one_hot(2))\n",
    "    THREE = (3, _get_one_hot(3))\n",
    "    FOUR = (4, _get_one_hot(4))\n",
    "    FIVE = (5, _get_one_hot(5))\n",
    "    SIX = (6, _get_one_hot(6))\n",
    "    SEVEN = (7, _get_one_hot(7))\n",
    "    EIGHT = (8, _get_one_hot(8))\n",
    "    NINE = (9, _get_one_hot(9))\n",
    "\n",
    "    @classmethod\n",
    "    def get_by_value(cls, num_value):\n",
    "        for member in cls:\n",
    "            if member.num_value == num_value:\n",
    "                return member\n",
    "        else:\n",
    "            raise ValueError(f\"Value {num_value} not in Tag!\")"
   ]
  },
  {
   "cell_type": "code",
   "execution_count": 27,
   "metadata": {},
   "outputs": [
    {
     "data": {
      "text/plain": [
       "<Tag.FIVE: (5, array([0, 0, 0, 0, 0, 1, 0, 0, 0, 0], dtype=uint8))>"
      ]
     },
     "execution_count": 27,
     "metadata": {},
     "output_type": "execute_result"
    }
   ],
   "source": [
    "Tag.get_by_value(5)"
   ]
  },
  {
   "cell_type": "code",
   "execution_count": 39,
   "metadata": {},
   "outputs": [],
   "source": [
    "def load_samples_from_file(path:str, file_filter:str = \".jpg\"):\n",
    "    file_list = tuple(filter(lambda x : x.lower().endswith(file_filter), os.listdir(path)))\n",
    "    file_list = [path + os.path.sep + x for x in file_list]\n",
    "    return file_list\n",
    "\n",
    "a = load_samples_from_file(r\"C:\\Users\\hongxiao95\\Documents\\Code\\2023\\number_ocr\\source_data\\train\")"
   ]
  },
  {
   "cell_type": "code",
   "execution_count": 43,
   "metadata": {},
   "outputs": [
    {
     "data": {
      "text/plain": [
       "array([[255, 255, 255, ..., 255, 255, 255],\n",
       "       [255, 255, 255, ..., 255, 255, 255],\n",
       "       [255, 255, 255, ..., 255, 255, 255],\n",
       "       ...,\n",
       "       [255, 255, 255, ..., 255, 255, 255],\n",
       "       [255, 255, 255, ..., 255, 255, 255],\n",
       "       [255, 255, 255, ..., 255, 255, 255]], dtype=uint8)"
      ]
     },
     "execution_count": 43,
     "metadata": {},
     "output_type": "execute_result"
    }
   ],
   "source": [
    "import cv2\n",
    "img_0 = cv2.imread(a[0])\n",
    "cv2.cvtColor(img_0, cv2.COLOR_BGR2GRAY)"
   ]
  },
  {
   "cell_type": "code",
   "execution_count": 48,
   "metadata": {},
   "outputs": [
    {
     "data": {
      "text/plain": [
       "40"
      ]
     },
     "execution_count": 48,
     "metadata": {},
     "output_type": "execute_result"
    }
   ],
   "source": [
    "img = cv2.imread(a[1], cv2.IMREAD_GRAYSCALE)\n",
    "img.flatten()\n",
    "len(img)"
   ]
  },
  {
   "cell_type": "code",
   "execution_count": 1,
   "metadata": {},
   "outputs": [],
   "source": [
    "import cv2\n",
    "import numpy as np\n",
    "from numrec import load_samples_from_file\n",
    "\n",
    "\n",
    "datas = load_samples_from_file(\"../source_data/train\")"
   ]
  },
  {
   "cell_type": "code",
   "execution_count": 2,
   "metadata": {},
   "outputs": [
    {
     "data": {
      "text/plain": [
       "[<numrec.SourceSample at 0x1c185a87af0>,\n",
       " <numrec.SourceSample at 0x1c185a86770>,\n",
       " <numrec.SourceSample at 0x1c185a86b00>,\n",
       " <numrec.SourceSample at 0x1c185a86aa0>,\n",
       " <numrec.SourceSample at 0x1c185a86c20>,\n",
       " <numrec.SourceSample at 0x1c185a86c80>,\n",
       " <numrec.SourceSample at 0x1c185a86ce0>,\n",
       " <numrec.SourceSample at 0x1c185a86d40>,\n",
       " <numrec.SourceSample at 0x1c185a86da0>,\n",
       " <numrec.SourceSample at 0x1c185a86e00>,\n",
       " <numrec.SourceSample at 0x1c185a86e60>,\n",
       " <numrec.SourceSample at 0x1c185a86ec0>,\n",
       " <numrec.SourceSample at 0x1c185a86f20>,\n",
       " <numrec.SourceSample at 0x1c185a86f80>,\n",
       " <numrec.SourceSample at 0x1c185a86fe0>,\n",
       " <numrec.SourceSample at 0x1c185a87040>,\n",
       " <numrec.SourceSample at 0x1c185a870a0>,\n",
       " <numrec.SourceSample at 0x1c185a87100>,\n",
       " <numrec.SourceSample at 0x1c185a87160>,\n",
       " <numrec.SourceSample at 0x1c185a871c0>,\n",
       " <numrec.SourceSample at 0x1c185a87220>,\n",
       " <numrec.SourceSample at 0x1c185a87280>,\n",
       " <numrec.SourceSample at 0x1c185a872e0>,\n",
       " <numrec.SourceSample at 0x1c185a87340>,\n",
       " <numrec.SourceSample at 0x1c185a873a0>,\n",
       " <numrec.SourceSample at 0x1c185a87400>,\n",
       " <numrec.SourceSample at 0x1c185a87460>,\n",
       " <numrec.SourceSample at 0x1c185a874c0>,\n",
       " <numrec.SourceSample at 0x1c185a87520>,\n",
       " <numrec.SourceSample at 0x1c185a87580>,\n",
       " <numrec.SourceSample at 0x1c185a875e0>,\n",
       " <numrec.SourceSample at 0x1c185a87640>,\n",
       " <numrec.SourceSample at 0x1c185a876a0>,\n",
       " <numrec.SourceSample at 0x1c185a87a60>,\n",
       " <numrec.SourceSample at 0x1c185a87a00>,\n",
       " <numrec.SourceSample at 0x1c185a879a0>,\n",
       " <numrec.SourceSample at 0x1c185a87940>,\n",
       " <numrec.SourceSample at 0x1c185a878e0>,\n",
       " <numrec.SourceSample at 0x1c185a87880>,\n",
       " <numrec.SourceSample at 0x1c185a87820>,\n",
       " <numrec.SourceSample at 0x1c185a877c0>,\n",
       " <numrec.SourceSample at 0x1c185a87760>,\n",
       " <numrec.SourceSample at 0x1c185a87700>,\n",
       " <numrec.SourceSample at 0x1c185a86380>,\n",
       " <numrec.SourceSample at 0x1c185a86320>,\n",
       " <numrec.SourceSample at 0x1c185a862c0>,\n",
       " <numrec.SourceSample at 0x1c185a86260>,\n",
       " <numrec.SourceSample at 0x1c185a86200>,\n",
       " <numrec.SourceSample at 0x1c185a861a0>,\n",
       " <numrec.SourceSample at 0x1c185a86140>,\n",
       " <numrec.SourceSample at 0x1c185a860e0>,\n",
       " <numrec.SourceSample at 0x1c185a86080>,\n",
       " <numrec.SourceSample at 0x1c185a86020>,\n",
       " <numrec.SourceSample at 0x1c185a85fc0>,\n",
       " <numrec.SourceSample at 0x1c185a85f60>,\n",
       " <numrec.SourceSample at 0x1c185a85f00>,\n",
       " <numrec.SourceSample at 0x1c185a85ea0>,\n",
       " <numrec.SourceSample at 0x1c185a85e40>,\n",
       " <numrec.SourceSample at 0x1c185a85de0>,\n",
       " <numrec.SourceSample at 0x1c185a85d80>,\n",
       " <numrec.SourceSample at 0x1c185a85d20>,\n",
       " <numrec.SourceSample at 0x1c185a85cc0>,\n",
       " <numrec.SourceSample at 0x1c185a85c60>,\n",
       " <numrec.SourceSample at 0x1c185a85c00>,\n",
       " <numrec.SourceSample at 0x1c185a85ba0>,\n",
       " <numrec.SourceSample at 0x1c185a85b40>,\n",
       " <numrec.SourceSample at 0x1c185a85ae0>,\n",
       " <numrec.SourceSample at 0x1c185a85a80>,\n",
       " <numrec.SourceSample at 0x1c185a85a20>,\n",
       " <numrec.SourceSample at 0x1c185a859c0>,\n",
       " <numrec.SourceSample at 0x1c185a85960>,\n",
       " <numrec.SourceSample at 0x1c185a85900>,\n",
       " <numrec.SourceSample at 0x1c185a858a0>,\n",
       " <numrec.SourceSample at 0x1c185a85840>,\n",
       " <numrec.SourceSample at 0x1c185a857e0>,\n",
       " <numrec.SourceSample at 0x1c185a85780>,\n",
       " <numrec.SourceSample at 0x1c185a85720>,\n",
       " <numrec.SourceSample at 0x1c185a856c0>,\n",
       " <numrec.SourceSample at 0x1c185a85660>,\n",
       " <numrec.SourceSample at 0x1c185a85600>,\n",
       " <numrec.SourceSample at 0x1c185a855a0>,\n",
       " <numrec.SourceSample at 0x1c185a85540>,\n",
       " <numrec.SourceSample at 0x1c185a854e0>,\n",
       " <numrec.SourceSample at 0x1c185a85480>,\n",
       " <numrec.SourceSample at 0x1c185a85420>,\n",
       " <numrec.SourceSample at 0x1c185a853c0>,\n",
       " <numrec.SourceSample at 0x1c185a85360>,\n",
       " <numrec.SourceSample at 0x1c185a85300>,\n",
       " <numrec.SourceSample at 0x1c185a852a0>,\n",
       " <numrec.SourceSample at 0x1c185a85240>,\n",
       " <numrec.SourceSample at 0x1c185a851e0>,\n",
       " <numrec.SourceSample at 0x1c185a85180>,\n",
       " <numrec.SourceSample at 0x1c185a85120>,\n",
       " <numrec.SourceSample at 0x1c185a850c0>,\n",
       " <numrec.SourceSample at 0x1c185a85060>,\n",
       " <numrec.SourceSample at 0x1c185a85000>,\n",
       " <numrec.SourceSample at 0x1c185a84fa0>,\n",
       " <numrec.SourceSample at 0x1c185a84f40>,\n",
       " <numrec.SourceSample at 0x1c185a84ee0>,\n",
       " <numrec.SourceSample at 0x1c185a84e80>,\n",
       " <numrec.SourceSample at 0x1c185a84e20>,\n",
       " <numrec.SourceSample at 0x1c185a84dc0>,\n",
       " <numrec.SourceSample at 0x1c185a84d60>,\n",
       " <numrec.SourceSample at 0x1c185a84d00>,\n",
       " <numrec.SourceSample at 0x1c185a84ca0>,\n",
       " <numrec.SourceSample at 0x1c185a84c40>,\n",
       " <numrec.SourceSample at 0x1c185a84be0>,\n",
       " <numrec.SourceSample at 0x1c185a84b80>,\n",
       " <numrec.SourceSample at 0x1c185a84b20>,\n",
       " <numrec.SourceSample at 0x1c185a84ac0>,\n",
       " <numrec.SourceSample at 0x1c185a84a60>,\n",
       " <numrec.SourceSample at 0x1c185a84a00>,\n",
       " <numrec.SourceSample at 0x1c185a849a0>,\n",
       " <numrec.SourceSample at 0x1c185a84940>,\n",
       " <numrec.SourceSample at 0x1c185a848e0>,\n",
       " <numrec.SourceSample at 0x1c185a84880>,\n",
       " <numrec.SourceSample at 0x1c185a84820>,\n",
       " <numrec.SourceSample at 0x1c185a847c0>,\n",
       " <numrec.SourceSample at 0x1c185a84760>,\n",
       " <numrec.SourceSample at 0x1c185a84700>,\n",
       " <numrec.SourceSample at 0x1c185a846a0>,\n",
       " <numrec.SourceSample at 0x1c185a84640>,\n",
       " <numrec.SourceSample at 0x1c185a845e0>,\n",
       " <numrec.SourceSample at 0x1c185a84580>,\n",
       " <numrec.SourceSample at 0x1c185a84520>,\n",
       " <numrec.SourceSample at 0x1c185a844c0>,\n",
       " <numrec.SourceSample at 0x1c185a84460>,\n",
       " <numrec.SourceSample at 0x1c185a84400>,\n",
       " <numrec.SourceSample at 0x1c185a843a0>,\n",
       " <numrec.SourceSample at 0x1c185a84340>,\n",
       " <numrec.SourceSample at 0x1c185a842e0>,\n",
       " <numrec.SourceSample at 0x1c185a84280>,\n",
       " <numrec.SourceSample at 0x1c185a84220>,\n",
       " <numrec.SourceSample at 0x1c185a841c0>,\n",
       " <numrec.SourceSample at 0x1c185a84160>,\n",
       " <numrec.SourceSample at 0x1c185a84100>,\n",
       " <numrec.SourceSample at 0x1c185a840a0>,\n",
       " <numrec.SourceSample at 0x1c185a84040>,\n",
       " <numrec.SourceSample at 0x1c185a80220>,\n",
       " <numrec.SourceSample at 0x1c185a80280>,\n",
       " <numrec.SourceSample at 0x1c185a802e0>,\n",
       " <numrec.SourceSample at 0x1c185a80340>,\n",
       " <numrec.SourceSample at 0x1c185a803a0>,\n",
       " <numrec.SourceSample at 0x1c185a80400>,\n",
       " <numrec.SourceSample at 0x1c185a81060>,\n",
       " <numrec.SourceSample at 0x1c185a810c0>,\n",
       " <numrec.SourceSample at 0x1c185a81120>,\n",
       " <numrec.SourceSample at 0x1c185a81180>,\n",
       " <numrec.SourceSample at 0x1c185a811e0>,\n",
       " <numrec.SourceSample at 0x1c185a81240>,\n",
       " <numrec.SourceSample at 0x1c185a812a0>,\n",
       " <numrec.SourceSample at 0x1c185a81300>,\n",
       " <numrec.SourceSample at 0x1c185a81360>,\n",
       " <numrec.SourceSample at 0x1c185a813c0>,\n",
       " <numrec.SourceSample at 0x1c185a81420>,\n",
       " <numrec.SourceSample at 0x1c185a81480>,\n",
       " <numrec.SourceSample at 0x1c185a814e0>,\n",
       " <numrec.SourceSample at 0x1c185a81540>,\n",
       " <numrec.SourceSample at 0x1c185a82da0>,\n",
       " <numrec.SourceSample at 0x1c185a82e00>]"
      ]
     },
     "execution_count": 2,
     "metadata": {},
     "output_type": "execute_result"
    }
   ],
   "source": [
    "datas"
   ]
  },
  {
   "cell_type": "code",
   "execution_count": 38,
   "metadata": {},
   "outputs": [],
   "source": [
    "import numpy as np\n",
    "arr = np.zeros((3,2),dtype=np.float32)\n",
    "def fun(x):\n",
    "    x+=5"
   ]
  },
  {
   "cell_type": "code",
   "execution_count": 52,
   "metadata": {},
   "outputs": [
    {
     "data": {
      "text/plain": [
       "array([[4, 4, 4],\n",
       "       [4, 4, 4],\n",
       "       [4, 4, 4],\n",
       "       [4, 4, 4],\n",
       "       [4, 4, 4]])"
      ]
     },
     "execution_count": 52,
     "metadata": {},
     "output_type": "execute_result"
    }
   ],
   "source": [
    "arr = np.full((5,3),4)\n",
    "arr"
   ]
  },
  {
   "cell_type": "code",
   "execution_count": 61,
   "metadata": {},
   "outputs": [
    {
     "data": {
      "text/plain": [
       "array([[4, 4, 4, 6, 6],\n",
       "       [4, 4, 4, 6, 6],\n",
       "       [4, 4, 4, 6, 6],\n",
       "       [4, 4, 4, 6, 6],\n",
       "       [4, 4, 4, 6, 6],\n",
       "       [6, 6, 6, 6, 6],\n",
       "       [6, 6, 6, 6, 6],\n",
       "       [6, 6, 6, 6, 6],\n",
       "       [6, 6, 6, 6, 6],\n",
       "       [6, 6, 6, 6, 6],\n",
       "       [6, 6, 6, 6, 6],\n",
       "       [6, 6, 6, 6, 6],\n",
       "       [6, 6, 6, 6, 6],\n",
       "       [4, 4, 4, 6, 6],\n",
       "       [4, 4, 4, 6, 6],\n",
       "       [4, 4, 4, 6, 6],\n",
       "       [4, 4, 4, 6, 6],\n",
       "       [4, 4, 4, 6, 6],\n",
       "       [6, 6, 6, 6, 6],\n",
       "       [6, 6, 6, 6, 6],\n",
       "       [6, 6, 6, 6, 6],\n",
       "       [6, 6, 6, 6, 6],\n",
       "       [6, 6, 6, 6, 6],\n",
       "       [6, 6, 6, 6, 6],\n",
       "       [6, 6, 6, 6, 6],\n",
       "       [6, 6, 6, 6, 6],\n",
       "       [4, 4, 4, 6, 6],\n",
       "       [4, 4, 4, 6, 6],\n",
       "       [4, 4, 4, 6, 6],\n",
       "       [4, 4, 4, 6, 6],\n",
       "       [4, 4, 4, 6, 6],\n",
       "       [6, 6, 6, 6, 6],\n",
       "       [6, 6, 6, 6, 6],\n",
       "       [6, 6, 6, 6, 6],\n",
       "       [6, 6, 6, 6, 6],\n",
       "       [6, 6, 6, 6, 6],\n",
       "       [6, 6, 6, 6, 6],\n",
       "       [6, 6, 6, 6, 6],\n",
       "       [6, 6, 6, 6, 6],\n",
       "       [4, 4, 4, 6, 6],\n",
       "       [4, 4, 4, 6, 6],\n",
       "       [4, 4, 4, 6, 6],\n",
       "       [4, 4, 4, 6, 6],\n",
       "       [4, 4, 4, 6, 6],\n",
       "       [6, 6, 6, 6, 6],\n",
       "       [6, 6, 6, 6, 6],\n",
       "       [6, 6, 6, 6, 6],\n",
       "       [6, 6, 6, 6, 6],\n",
       "       [6, 6, 6, 6, 6],\n",
       "       [6, 6, 6, 6, 6]])"
      ]
     },
     "execution_count": 61,
     "metadata": {},
     "output_type": "execute_result"
    }
   ],
   "source": [
    "another_arr = np.full((2,5), 6)\n",
    "arr = np.concatenate((arr, another_arr,arr), axis=0)\n",
    "arr\n"
   ]
  },
  {
   "cell_type": "code",
   "execution_count": 63,
   "metadata": {},
   "outputs": [
    {
     "data": {
      "text/plain": [
       "50"
      ]
     },
     "execution_count": 63,
     "metadata": {},
     "output_type": "execute_result"
    }
   ],
   "source": [
    "arr.shape[0]"
   ]
  },
  {
   "cell_type": "code",
   "execution_count": 1,
   "metadata": {},
   "outputs": [],
   "source": [
    "import numpy as np\n"
   ]
  },
  {
   "cell_type": "code",
   "execution_count": 4,
   "metadata": {},
   "outputs": [
    {
     "data": {
      "text/plain": [
       "array([[ 77, 164,  61,  16, 166],\n",
       "       [ 96, 186,  46,  93, 200],\n",
       "       [149, 172,  68,  37,  10]])"
      ]
     },
     "execution_count": 4,
     "metadata": {},
     "output_type": "execute_result"
    }
   ],
   "source": [
    "arr = np.random.randint(10,255,size=(3,5))\n",
    "arr\n",
    "\n"
   ]
  },
  {
   "cell_type": "code",
   "execution_count": 5,
   "metadata": {},
   "outputs": [
    {
     "data": {
      "text/plain": [
       "array([[ 77, 164,  61,  70, 166],\n",
       "       [ 96, 186,  70,  93, 200],\n",
       "       [149, 172,  68,  70,  70]])"
      ]
     },
     "execution_count": 5,
     "metadata": {},
     "output_type": "execute_result"
    }
   ],
   "source": [
    "arr[arr < 60] = 70\n",
    "arr"
   ]
  },
  {
   "cell_type": "code",
   "execution_count": 7,
   "metadata": {},
   "outputs": [
    {
     "data": {
      "text/plain": [
       "array([False, False, False])"
      ]
     },
     "execution_count": 7,
     "metadata": {},
     "output_type": "execute_result"
    }
   ],
   "source": [
    "arr[:,3] > 200"
   ]
  },
  {
   "cell_type": "code",
   "execution_count": 13,
   "metadata": {},
   "outputs": [
    {
     "data": {
      "text/plain": [
       "array([[ 85, 172,  69,  78, 174],\n",
       "       [108, 198,  82, 105, 212],\n",
       "       [165, 188,  84,  86,  86]])"
      ]
     },
     "execution_count": 13,
     "metadata": {},
     "output_type": "execute_result"
    }
   ],
   "source": [
    "bias = np.array([[2,3,4]]).T\n",
    "newarr = newarr + bias\n",
    "newarr"
   ]
  },
  {
   "cell_type": "code",
   "execution_count": 9,
   "metadata": {},
   "outputs": [
    {
     "data": {
      "text/plain": [
       "array([2, 3, 4])"
      ]
     },
     "execution_count": 9,
     "metadata": {},
     "output_type": "execute_result"
    }
   ],
   "source": [
    "bias"
   ]
  },
  {
   "cell_type": "code",
   "execution_count": 15,
   "metadata": {},
   "outputs": [
    {
     "data": {
      "text/plain": [
       "array([[-41, -42,  32,  32,  11, -47],\n",
       "       [-21,  15, -32,  24, -24, -36],\n",
       "       [ 11,  35,   5,   5,  -9,  24],\n",
       "       [ -4, -35, -43,  -5, -24,  10]])"
      ]
     },
     "execution_count": 15,
     "metadata": {},
     "output_type": "execute_result"
    }
   ],
   "source": [
    "arr = np.random.randint(-50,50, size=(4,6))\n",
    "arr"
   ]
  },
  {
   "cell_type": "code",
   "execution_count": 19,
   "metadata": {},
   "outputs": [
    {
     "data": {
      "text/plain": [
       "array([[-52, -77,   0,   0,   0, -71],\n",
       "       [-32, -20, -64,  -8, -35, -60],\n",
       "       [  0,   0, -27, -27, -20,   0],\n",
       "       [-15, -70, -75, -37, -35, -14]])"
      ]
     },
     "execution_count": 19,
     "metadata": {},
     "output_type": "execute_result"
    }
   ],
   "source": [
    "maxar = np.max(arr, axis=0)\n",
    "arr = arr - maxar\n"
   ]
  },
  {
   "cell_type": "code",
   "execution_count": 21,
   "metadata": {},
   "outputs": [
    {
     "data": {
      "text/plain": [
       "array([[2.61027907e-23, 3.62514092e-34, 1.00000000e+00, 1.00000000e+00,\n",
       "        1.00000000e+00, 1.46248623e-31],\n",
       "       [1.26641655e-14, 2.06115362e-09, 1.60381089e-28, 3.35462628e-04,\n",
       "        6.30511676e-16, 8.75651076e-27],\n",
       "       [1.00000000e+00, 1.00000000e+00, 1.87952882e-12, 1.87952882e-12,\n",
       "        2.06115362e-09, 1.00000000e+00],\n",
       "       [3.05902321e-07, 3.97544974e-31, 2.67863696e-33, 8.53304763e-17,\n",
       "        6.30511676e-16, 8.31528719e-07]])"
      ]
     },
     "execution_count": 21,
     "metadata": {},
     "output_type": "execute_result"
    }
   ],
   "source": [
    "expar = np.exp(arr)\n",
    "expar"
   ]
  },
  {
   "cell_type": "code",
   "execution_count": 22,
   "metadata": {},
   "outputs": [
    {
     "data": {
      "text/plain": [
       "array([[2.61027827e-23, 3.62514091e-34, 1.00000000e+00, 9.99664650e-01,\n",
       "        9.99999998e-01, 1.46248501e-31],\n",
       "       [1.26641617e-14, 2.06115362e-09, 1.60381089e-28, 3.35350130e-04,\n",
       "        6.30511675e-16, 8.75650348e-27],\n",
       "       [9.99999694e-01, 9.99999998e-01, 1.87952882e-12, 1.87889852e-12,\n",
       "        2.06115362e-09, 9.99999168e-01],\n",
       "       [3.05902227e-07, 3.97544973e-31, 2.67863696e-33, 8.53018607e-17,\n",
       "        6.30511675e-16, 8.31528028e-07]])"
      ]
     },
     "execution_count": 22,
     "metadata": {},
     "output_type": "execute_result"
    }
   ],
   "source": [
    "rate_ar = expar / np.sum(expar, axis=0)\n",
    "rate_ar"
   ]
  },
  {
   "cell_type": "code",
   "execution_count": 7,
   "metadata": {},
   "outputs": [
    {
     "name": "stdout",
     "output_type": "stream",
     "text": [
      "broad 1 layer\n",
      "broad 1 layer\n",
      "broad 1 layer\n",
      "broad 1 layer\n",
      "[[0. 0. 0. ... 0. 0. 0.]\n",
      " [0. 0. 0. ... 0. 0. 0.]\n",
      " [0. 0. 1. ... 1. 0. 1.]\n",
      " ...\n",
      " [0. 0. 0. ... 0. 0. 0.]\n",
      " [0. 0. 0. ... 0. 0. 0.]\n",
      " [0. 1. 0. ... 0. 1. 0.]]\n"
     ]
    }
   ],
   "source": [
    "from numrec import OneHotFullLinkNetwork\n",
    "from NetworkFunctions import ReLU\n",
    "\n",
    "network = OneHotFullLinkNetwork([40,40,40], activation=ReLU, learn_rate=0.01)\n",
    "network.load_samples_and_init_network(\"../source_data/train\")\n",
    "\n",
    "network.forward_broadcasting()\n",
    "\n"
   ]
  },
  {
   "cell_type": "code",
   "execution_count": 1,
   "metadata": {},
   "outputs": [
    {
     "data": {
      "text/plain": [
       "array([[ 19,  46, -48,  28,  42,  -9],\n",
       "       [  3, -42, -36,  -1, -17, -24],\n",
       "       [-33, -28, -49,  -8,  -9, -16],\n",
       "       [-23, -18, -23, -33,   4, -50]])"
      ]
     },
     "execution_count": 1,
     "metadata": {},
     "output_type": "execute_result"
    }
   ],
   "source": [
    "import numpy as np\n",
    "arr = np.random.randint(-50,50, size=(4,6))\n",
    "arr"
   ]
  },
  {
   "cell_type": "code",
   "execution_count": 15,
   "metadata": {},
   "outputs": [
    {
     "data": {
      "text/plain": [
       "array([[ 13.        ],\n",
       "       [-19.5       ],\n",
       "       [-23.83333333],\n",
       "       [-23.83333333]])"
      ]
     },
     "execution_count": 15,
     "metadata": {},
     "output_type": "execute_result"
    }
   ],
   "source": [
    "from NetworkFunctions import softmax\n",
    "\n",
    "a_v = np.average(arr, axis=1).reshape(-1,1)\n",
    "a_v"
   ]
  },
  {
   "cell_type": "code",
   "execution_count": 16,
   "metadata": {},
   "outputs": [
    {
     "data": {
      "text/plain": [
       "array([[ 5, 12],\n",
       "       [21, 32]])"
      ]
     },
     "execution_count": 16,
     "metadata": {},
     "output_type": "execute_result"
    }
   ],
   "source": [
    "A = np.array([[1, 2], [3, 4]])\n",
    "B = np.array([[5, 6], [7, 8]])\n",
    "\n",
    "C = A * B\n",
    "C"
   ]
  },
  {
   "cell_type": "code",
   "execution_count": 33,
   "metadata": {},
   "outputs": [
    {
     "data": {
      "text/plain": [
       "array([[ -7,  47, -32,  40, -24, -18],\n",
       "       [-23,  27, -20,  20,  10,  13],\n",
       "       [  3,  -4, -29,  22,  48,  28],\n",
       "       [-15,  31,  10,   7, -11,  14]])"
      ]
     },
     "execution_count": 33,
     "metadata": {},
     "output_type": "execute_result"
    }
   ],
   "source": [
    "arr = np.random.randint(-50,50, size=(4,6))\n",
    "arr"
   ]
  },
  {
   "cell_type": "markdown",
   "metadata": {},
   "source": []
  },
  {
   "cell_type": "code",
   "execution_count": 21,
   "metadata": {},
   "outputs": [
    {
     "data": {
      "text/plain": [
       "array([1, 2, 1, 3, 1, 1], dtype=int64)"
      ]
     },
     "execution_count": 21,
     "metadata": {},
     "output_type": "execute_result"
    }
   ],
   "source": [
    "arr.argmax(axis=0)"
   ]
  },
  {
   "cell_type": "code",
   "execution_count": 22,
   "metadata": {},
   "outputs": [],
   "source": [
    "real_arr = np.array([[1,0,0,0,0,1],\n",
    "            [0,0,0,0,0,0],\n",
    "            [0,1,1,0,0,0],\n",
    "            [0,0,0,1,1,0]])"
   ]
  },
  {
   "cell_type": "code",
   "execution_count": 28,
   "metadata": {},
   "outputs": [
    {
     "data": {
      "text/plain": [
       "array([1, 0, 1, 0, 1, 1], dtype=int64)"
      ]
     },
     "execution_count": 28,
     "metadata": {},
     "output_type": "execute_result"
    }
   ],
   "source": [
    "aa = arr.argmax(axis=0)\n",
    "ra = real_arr.argmax(axis=0)\n",
    "aa[aa == ra] = 0\n",
    "aa"
   ]
  },
  {
   "cell_type": "code",
   "execution_count": 29,
   "metadata": {},
   "outputs": [
    {
     "data": {
      "text/plain": [
       "6"
      ]
     },
     "execution_count": 29,
     "metadata": {},
     "output_type": "execute_result"
    }
   ],
   "source": [
    "real_arr.shape[1]"
   ]
  },
  {
   "cell_type": "code",
   "execution_count": 32,
   "metadata": {},
   "outputs": [
    {
     "name": "stdout",
     "output_type": "stream",
     "text": [
      "100.234\n"
     ]
    }
   ],
   "source": [
    "print(f\"{100.2344321687:.6}\")"
   ]
  },
  {
   "cell_type": "code",
   "execution_count": 35,
   "metadata": {},
   "outputs": [
    {
     "data": {
      "text/plain": [
       "array([0, 2, 2, 3, 3, 0], dtype=int64)"
      ]
     },
     "execution_count": 35,
     "metadata": {},
     "output_type": "execute_result"
    }
   ],
   "source": [
    "true_pos = real_arr.argmax(axis=0)\n",
    "true_pos"
   ]
  },
  {
   "cell_type": "code",
   "execution_count": 44,
   "metadata": {},
   "outputs": [
    {
     "data": {
      "text/plain": [
       "array([ -7,  -4, -29,   7, -11, -18])"
      ]
     },
     "execution_count": 44,
     "metadata": {},
     "output_type": "execute_result"
    }
   ],
   "source": [
    "arr[true_pos,np.arange(arr.shape[1])]"
   ]
  },
  {
   "cell_type": "code",
   "execution_count": 4,
   "metadata": {},
   "outputs": [
    {
     "data": {
      "text/plain": [
       "1701085632.3954477"
      ]
     },
     "execution_count": 4,
     "metadata": {},
     "output_type": "execute_result"
    }
   ],
   "source": [
    "import time\n",
    "a = time.time()\n",
    "a"
   ]
  },
  {
   "cell_type": "code",
   "execution_count": 2,
   "metadata": {},
   "outputs": [],
   "source": [
    "import configparser, os\n",
    "def save_config(config_dir:str = \"nn_config\"):\n",
    "        if os.path.exists(config_dir) == False:\n",
    "            os.makedirs(config_dir)\n",
    "        config_file_name = config_dir + os.path.sep + \"network_args.ini\"\n",
    "\n",
    "        config = configparser.ConfigParser()\n",
    "        config[\"main\"] = {\n",
    "             \"learn_rate\":\"0.05\",\n",
    "             \"mid_normal_max\":\"5\",\n",
    "             \"sample_width\":\"28\",\n",
    "             \"sample_height\":\"28\"\n",
    "        }\n",
    "    \n",
    "        with open(config_file_name, \"w\") as config_file:\n",
    "            config.write(config_file)\n",
    "\n",
    "save_config(\"test_config\")"
   ]
  },
  {
   "cell_type": "code",
   "execution_count": 3,
   "metadata": {},
   "outputs": [],
   "source": [
    "import numpy as np\n",
    "# 存储网络参数：每层的权重矩阵、偏置矩阵\n",
    "config_dir = \"test_config\"\n",
    "weights_file_name = config_dir + os.path.sep + \"weights.npz\"\n",
    "bias_file_name = config_dir + os.path.sep + \"biases.npz\"\n",
    "\n",
    "weights = {}\n",
    "biases = {}\n",
    "\n",
    "weights[\"weight_1\"] = np.random.randint(10,30, (5,5))\n",
    "weights[\"weight_2\"] = np.random.randint(10,30, (5,5))\n",
    "weights[\"weight_3\"] = np.random.randint(10,30, (5,7))\n",
    "\n",
    "biases[\"bias_1\"] = np.random.randint(10,30, (5,5))\n",
    "biases[\"bias_2\"] = np.random.randint(10,30, (6,5))\n",
    "biases[\"bias_3\"] = np.random.randint(10,30, (4,5))\n",
    "\n",
    "\n",
    "np.savez(weights_file_name, **weights)\n",
    "np.savez(bias_file_name, **biases)"
   ]
  },
  {
   "cell_type": "code",
   "execution_count": 14,
   "metadata": {},
   "outputs": [
    {
     "name": "stdout",
     "output_type": "stream",
     "text": [
      "[[24 16 19 14 22]\n",
      " [24 18 13 20 28]\n",
      " [13 22 13 14 14]\n",
      " [25 25 12 14 20]\n",
      " [22 10 18 24 23]]\n",
      "[[15 25 27 25 29]\n",
      " [17 26 18 28 23]\n",
      " [25 21 27 12 16]\n",
      " [15 29 15 19 15]\n",
      " [26 29 28 24 19]]\n",
      "[[18 27 15 26 10 15 24]\n",
      " [20 24 28 24 24 29 28]\n",
      " [15 29 10 24 28 23 21]\n",
      " [10 12 14 14 13 22 21]\n",
      " [10 15 13 28 25 21 12]]\n"
     ]
    }
   ],
   "source": [
    "loaded = np.load(\"test_config/weights.npz\")\n",
    "arr_count = len(loaded.keys())\n",
    "\n",
    "arrays = []\n",
    "\n",
    "for i in range(arr_count):\n",
    "    arrays.append(loaded[f\"qq{i + 1}\"])\n",
    "\n",
    "for array in arrays:\n",
    "    print(array)"
   ]
  },
  {
   "cell_type": "code",
   "execution_count": 4,
   "metadata": {},
   "outputs": [],
   "source": [
    "from numrec import OneHotFullLinkNetwork\n",
    "\n",
    "def load_config_and_init_predict_network(config_dir:str = \"nn_config\"):\n",
    "    config_file_name = config_dir + os.path.sep + \"network_args.ini\"\n",
    "    weights_file_name = config_dir + os.path.sep + \"weights.npz\"\n",
    "    biases_file_name = config_dir + os.path.sep + \"biases.npz\"\n",
    "\n",
    "    if os.path.exists(config_file_name) == False or os.path.exists(weights_file_name) == False or os.path.exists(biases_file_name) == False:\n",
    "        raise FileNotFoundError(\"配置文件不全！\")\n",
    "\n",
    "    config = configparser.ConfigParser()\n",
    "    config.read(config_file_name)\n",
    "    learn_rate = float(config[\"main\"][\"learn_rate\"])\n",
    "    mid_normal_max = int(config[\"main\"][\"mid_normal_max\"])\n",
    "    sample_width = int(config[\"main\"][\"sample_width\"])\n",
    "    sample_height = int(config[\"main\"][\"sample_height\"])\n",
    "\n",
    "    weight_load = np.load(weights_file_name)\n",
    "    weight_matrix = []\n",
    "    for i in range(len(weight_load)):\n",
    "        weight_matrix.append(weight_load[OneHotFullLinkNetwork.get_n_weight_name(i + 1)])\n",
    "\n",
    "    bias_load = np.load(biases_file_name)\n",
    "    biases_matrix = []\n",
    "    for i in range(len(bias_load)):\n",
    "        biases_matrix.append(bias_load[OneHotFullLinkNetwork.get_n_bias_name(i + 1)])\n",
    "    \n",
    "    mid_layer_sizes = [len(x) for x in biases_matrix]\n",
    "\n",
    "    network = OneHotFullLinkNetwork(mid_layer_sizes, \"ReLU\", learn_rate=learn_rate, mid_normal_max=mid_normal_max, sample_shape=(sample_width, sample_height))\n",
    "    #network.init_network_for_predict(weight_matrix, biases_matrix)\n",
    "\n",
    "    return network"
   ]
  },
  {
   "cell_type": "code",
   "execution_count": 5,
   "metadata": {},
   "outputs": [
    {
     "data": {
      "text/plain": [
       "<numrec.OneHotFullLinkNetwork at 0x1f6270bcb90>"
      ]
     },
     "execution_count": 5,
     "metadata": {},
     "output_type": "execute_result"
    }
   ],
   "source": [
    "load_config_and_init_predict_network(\"test_config\")"
   ]
  }
 ],
 "metadata": {
  "kernelspec": {
   "display_name": "nn1",
   "language": "python",
   "name": "python3"
  },
  "language_info": {
   "codemirror_mode": {
    "name": "ipython",
    "version": 3
   },
   "file_extension": ".py",
   "mimetype": "text/x-python",
   "name": "python",
   "nbconvert_exporter": "python",
   "pygments_lexer": "ipython3",
   "version": "3.11.5"
  }
 },
 "nbformat": 4,
 "nbformat_minor": 2
}
